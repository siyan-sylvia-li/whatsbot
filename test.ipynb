{
 "cells": [
  {
   "cell_type": "code",
   "execution_count": 1,
   "id": "7347b5ef",
   "metadata": {},
   "outputs": [
    {
     "name": "stderr",
     "output_type": "stream",
     "text": [
      "/home/sylvia/anaconda3/envs/sony/lib/python3.12/site-packages/tqdm/auto.py:21: TqdmWarning: IProgress not found. Please update jupyter and ipywidgets. See https://ipywidgets.readthedocs.io/en/stable/user_install.html\n",
      "  from .autonotebook import tqdm as notebook_tqdm\n"
     ]
    }
   ],
   "source": [
    "import dspy\n",
    "import dotenv\n",
    "\n",
    "dotenv.load_dotenv(\".env\")\n",
    "\n",
    "lm = dspy.LM(\"openai/gpt-4o-mini\")"
   ]
  },
  {
   "cell_type": "code",
   "execution_count": 2,
   "id": "451c55d7",
   "metadata": {},
   "outputs": [
    {
     "data": {
      "text/plain": [
       "['Hello! How can I assist you today?']"
      ]
     },
     "execution_count": 2,
     "metadata": {},
     "output_type": "execute_result"
    }
   ],
   "source": [
    "messages = [{\"role\": \"user\", \"content\": \"hi\", \"time\": 3234}]\n",
    "\n",
    "lm(messages=messages)"
   ]
  },
  {
   "cell_type": "code",
   "execution_count": 2,
   "id": "8a8fc34c",
   "metadata": {},
   "outputs": [
    {
     "data": {
      "text/plain": [
       "'Here are the summaries of the last three sessions:\\nwrjwkBased on these, identify the single most important topic we should discuss next.'"
      ]
     },
     "execution_count": 2,
     "metadata": {},
     "output_type": "execute_result"
    }
   ],
   "source": [
    "l1 = \"wrjwk\"\n",
    "user_prompt = (\n",
    "        \"Here are the summaries of the last three sessions:\\n\"\n",
    "        f\"{l1}\"\n",
    "        \"Based on these, identify the single most important topic we should discuss next.\"\n",
    "    )\n",
    "user_prompt"
   ]
  },
  {
   "cell_type": "code",
   "execution_count": null,
   "id": "860270ab",
   "metadata": {},
   "outputs": [],
   "source": []
  }
 ],
 "metadata": {
  "kernelspec": {
   "display_name": "sony",
   "language": "python",
   "name": "python3"
  },
  "language_info": {
   "codemirror_mode": {
    "name": "ipython",
    "version": 3
   },
   "file_extension": ".py",
   "mimetype": "text/x-python",
   "name": "python",
   "nbconvert_exporter": "python",
   "pygments_lexer": "ipython3",
   "version": "3.12.0"
  }
 },
 "nbformat": 4,
 "nbformat_minor": 5
}
